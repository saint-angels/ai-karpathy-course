{
 "cells": [
  {
   "cell_type": "code",
   "execution_count": 126,
   "id": "4b8d4899",
   "metadata": {},
   "outputs": [],
   "source": [
    "import torch\n",
    "import torch.nn.functional as F\n",
    "import random"
   ]
  },
  {
   "cell_type": "code",
   "execution_count": 2,
   "id": "cfbfc308",
   "metadata": {},
   "outputs": [],
   "source": [
    "words = open('names.txt', 'r').read().splitlines()"
   ]
  },
  {
   "cell_type": "code",
   "execution_count": 3,
   "id": "b07491aa",
   "metadata": {},
   "outputs": [
    {
     "data": {
      "text/plain": [
       "['emma',\n",
       " 'olivia',\n",
       " 'ava',\n",
       " 'isabella',\n",
       " 'sophia',\n",
       " 'charlotte',\n",
       " 'mia',\n",
       " 'amelia',\n",
       " 'harper',\n",
       " 'evelyn']"
      ]
     },
     "execution_count": 3,
     "metadata": {},
     "output_type": "execute_result"
    }
   ],
   "source": [
    "words[:10]"
   ]
  },
  {
   "cell_type": "code",
   "execution_count": 4,
   "id": "4de272f2",
   "metadata": {},
   "outputs": [
    {
     "data": {
      "text/plain": [
       "32033"
      ]
     },
     "execution_count": 4,
     "metadata": {},
     "output_type": "execute_result"
    }
   ],
   "source": [
    "len(words)"
   ]
  },
  {
   "cell_type": "code",
   "execution_count": 5,
   "id": "60d88715",
   "metadata": {},
   "outputs": [
    {
     "data": {
      "text/plain": [
       "26"
      ]
     },
     "execution_count": 5,
     "metadata": {},
     "output_type": "execute_result"
    }
   ],
   "source": [
    "chars = sorted(list(set(''.join(words))))\n",
    "# chars.insert(0, '.')\n",
    "len(chars)"
   ]
  },
  {
   "cell_type": "code",
   "execution_count": 25,
   "id": "9a989125",
   "metadata": {},
   "outputs": [
    {
     "name": "stdout",
     "output_type": "stream",
     "text": [
      "dchars len: 729\n"
     ]
    },
    {
     "data": {
      "text/plain": [
       "729"
      ]
     },
     "execution_count": 25,
     "metadata": {},
     "output_type": "execute_result"
    }
   ],
   "source": [
    "dchars = []\n",
    "for c in chars:\n",
    "    dchars.append(f'.{c}')\n",
    "for c in chars:\n",
    "    for c2 in chars:\n",
    "        dchars.append(f'{c}{c2}')\n",
    "\n",
    "two_char_variations = len(dchars)\n",
    "for c in chars:\n",
    "    dchars.append(c)\n",
    "dchars.append('.')\n",
    "print(f\"dchars len: {len(dchars)}\")\n",
    "stoi = {s:i for i,s in enumerate(dchars)}\n",
    "itos = {i:s for s,i in stoi.items()}\n",
    "\n",
    "len(stoi)"
   ]
  },
  {
   "cell_type": "code",
   "execution_count": 62,
   "id": "94032608",
   "metadata": {},
   "outputs": [
    {
     "data": {
      "text/plain": [
       "729"
      ]
     },
     "execution_count": 62,
     "metadata": {},
     "output_type": "execute_result"
    }
   ],
   "source": [
    "len(dchars)"
   ]
  },
  {
   "cell_type": "code",
   "execution_count": 7,
   "id": "d68c46e9",
   "metadata": {},
   "outputs": [
    {
     "data": {
      "text/plain": [
       "torch.Size([702, 27])"
      ]
     },
     "execution_count": 7,
     "metadata": {},
     "output_type": "execute_result"
    }
   ],
   "source": [
    "N = torch.zeros((two_char_variations, 27), dtype=torch.int32)\n",
    "N.shape"
   ]
  },
  {
   "cell_type": "code",
   "execution_count": 8,
   "id": "3cd4ba10",
   "metadata": {},
   "outputs": [],
   "source": [
    "g = torch.Generator()\n"
   ]
  },
  {
   "cell_type": "code",
   "execution_count": 30,
   "id": "7bb6ad69",
   "metadata": {},
   "outputs": [
    {
     "name": "stdout",
     "output_type": "stream",
     "text": [
      "number of examples:  196113\n"
     ]
    }
   ],
   "source": [
    "# create the training set of bigrams (x,y)\n",
    "xs, ys = [], []\n",
    "\n",
    "for w in words:\n",
    "    chs = ['.'] + list(w) + ['.']\n",
    "    for i, c in enumerate(chs[:-2]):\n",
    "        str1 = ''.join(chs[i:i+2])\n",
    "        str2 = chs[i+2]\n",
    "        ix1 = stoi[str1]\n",
    "        ix2 = stoi[str2]\n",
    "        xs.append(ix1)\n",
    "        ys.append(ix2)\n",
    "#         print(str1, str2, ix1, ix2)\n",
    "\n",
    "xs = torch.tensor(xs)\n",
    "ys = torch.tensor(ys)\n",
    "num = xs.nelement()\n",
    "print('number of examples: ', num)"
   ]
  },
  {
   "cell_type": "code",
   "execution_count": 33,
   "id": "849448c5",
   "metadata": {},
   "outputs": [
    {
     "data": {
      "text/plain": [
       "torch.Size([196113])"
      ]
     },
     "execution_count": 33,
     "metadata": {},
     "output_type": "execute_result"
    }
   ],
   "source": [
    "ys.shape"
   ]
  },
  {
   "cell_type": "code",
   "execution_count": 43,
   "id": "5e4f3d56",
   "metadata": {},
   "outputs": [],
   "source": [
    "g = torch.Generator()\n",
    "W = torch.randn((729, 729), generator=g, requires_grad=True)"
   ]
  },
  {
   "cell_type": "code",
   "execution_count": 193,
   "id": "97c9a637",
   "metadata": {},
   "outputs": [
    {
     "name": "stdout",
     "output_type": "stream",
     "text": [
      "2.4067416191101074\n",
      "2.4056434631347656\n",
      "2.404552459716797\n",
      "2.403468608856201\n",
      "2.4023923873901367\n",
      "2.401322841644287\n",
      "2.4002604484558105\n",
      "2.399205207824707\n",
      "2.3981568813323975\n",
      "2.397115468978882\n"
     ]
    }
   ],
   "source": [
    "for k in range(10):\n",
    "    #forward pass\n",
    "    xenc = F.one_hot(xs, num_classes=729).float()\n",
    "    logits = xenc @ W #predicct log counts\n",
    "    counts = logits.exp() #counts\n",
    "    probs = counts / counts.sum(1, keepdims=True) #probabilities for the next char\n",
    "    loss = -probs[torch.arange(num), ys].log().mean() + 0.01*(W**2).mean()\n",
    "    print(loss.item())\n",
    "    #backward pass\n",
    "    W.grad = None\n",
    "    loss.backward()\n",
    "    \n",
    "    W.data += -200 * W.grad"
   ]
  },
  {
   "cell_type": "code",
   "execution_count": 207,
   "id": "c7e53535",
   "metadata": {},
   "outputs": [
    {
     "name": "stdout",
     "output_type": "stream",
     "text": [
      "rakg.parlon\n",
      "nee\n",
      "jogh\n",
      "re\n",
      "fattuban\n",
      "ni\n",
      "vivexgoe\n",
      "cola\n",
      "even\n",
      "olain\n"
     ]
    }
   ],
   "source": [
    "for i in range(10):\n",
    "    out = []\n",
    "    ix = random.randint(0, 28)\n",
    "    out.append(itos[ix])\n",
    "    while True:\n",
    "        xenc = F.one_hot(torch.tensor([ix]), num_classes=729).float()\n",
    "        logits = xenc @ W\n",
    "        counts = logits.exp()\n",
    "        p = counts / counts.sum(1, keepdims=True)\n",
    "        ix = torch.multinomial(p, num_samples=1, replacement=True, generator=g).item()\n",
    "        out.append(itos[ix])\n",
    "        if ix == 728: #single dot index\n",
    "            break\n",
    "        last_2_chars = (''.join(out))[-2:]\n",
    "        ix = stoi[last_2_chars]\n",
    "    print(''.join(out)[1:-1])\n",
    "            "
   ]
  },
  {
   "cell_type": "code",
   "execution_count": null,
   "id": "e355e7c6",
   "metadata": {},
   "outputs": [],
   "source": []
  }
 ],
 "metadata": {
  "kernelspec": {
   "display_name": "Python 3",
   "language": "python",
   "name": "python3"
  },
  "language_info": {
   "codemirror_mode": {
    "name": "ipython",
    "version": 3
   },
   "file_extension": ".py",
   "mimetype": "text/x-python",
   "name": "python",
   "nbconvert_exporter": "python",
   "pygments_lexer": "ipython3",
   "version": "3.9.16"
  }
 },
 "nbformat": 4,
 "nbformat_minor": 5
}
