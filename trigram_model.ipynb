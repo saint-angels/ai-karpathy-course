{
 "cells": [
  {
   "cell_type": "code",
   "execution_count": 22,
   "id": "4b8d4899",
   "metadata": {},
   "outputs": [],
   "source": [
    "import torch\n",
    "import torch.nn.functional as F"
   ]
  },
  {
   "cell_type": "code",
   "execution_count": 2,
   "id": "cfbfc308",
   "metadata": {},
   "outputs": [],
   "source": [
    "words = open('names.txt', 'r').read().splitlines()"
   ]
  },
  {
   "cell_type": "code",
   "execution_count": 3,
   "id": "b07491aa",
   "metadata": {},
   "outputs": [
    {
     "data": {
      "text/plain": [
       "['emma',\n",
       " 'olivia',\n",
       " 'ava',\n",
       " 'isabella',\n",
       " 'sophia',\n",
       " 'charlotte',\n",
       " 'mia',\n",
       " 'amelia',\n",
       " 'harper',\n",
       " 'evelyn']"
      ]
     },
     "execution_count": 3,
     "metadata": {},
     "output_type": "execute_result"
    }
   ],
   "source": [
    "words[:10]"
   ]
  },
  {
   "cell_type": "code",
   "execution_count": 4,
   "id": "4de272f2",
   "metadata": {},
   "outputs": [
    {
     "data": {
      "text/plain": [
       "32033"
      ]
     },
     "execution_count": 4,
     "metadata": {},
     "output_type": "execute_result"
    }
   ],
   "source": [
    "len(words)"
   ]
  },
  {
   "cell_type": "code",
   "execution_count": 41,
   "id": "60d88715",
   "metadata": {},
   "outputs": [
    {
     "data": {
      "text/plain": [
       "26"
      ]
     },
     "execution_count": 41,
     "metadata": {},
     "output_type": "execute_result"
    }
   ],
   "source": [
    "chars = sorted(list(set(''.join(words))))\n",
    "# chars.insert(0, '.')\n",
    "len(chars)"
   ]
  },
  {
   "cell_type": "code",
   "execution_count": 93,
   "id": "9a989125",
   "metadata": {},
   "outputs": [
    {
     "name": "stdout",
     "output_type": "stream",
     "text": [
      "dchars len: 729\n"
     ]
    },
    {
     "data": {
      "text/plain": [
       "['zx',\n",
       " 'zy',\n",
       " 'zz',\n",
       " 'a',\n",
       " 'b',\n",
       " 'c',\n",
       " 'd',\n",
       " 'e',\n",
       " 'f',\n",
       " 'g',\n",
       " 'h',\n",
       " 'i',\n",
       " 'j',\n",
       " 'k',\n",
       " 'l',\n",
       " 'm',\n",
       " 'n',\n",
       " 'o',\n",
       " 'p',\n",
       " 'q',\n",
       " 'r',\n",
       " 's',\n",
       " 't',\n",
       " 'u',\n",
       " 'v',\n",
       " 'w',\n",
       " 'x',\n",
       " 'y',\n",
       " 'z',\n",
       " '.']"
      ]
     },
     "execution_count": 93,
     "metadata": {},
     "output_type": "execute_result"
    }
   ],
   "source": [
    "dchars = []\n",
    "for c in chars:\n",
    "    dchars.append(f'.{c}')\n",
    "for c in chars:\n",
    "    for c2 in chars:\n",
    "        dchars.append(f'{c}{c2}')\n",
    "\n",
    "two_char_variations = len(dchars)\n",
    "for c in chars:\n",
    "    dchars.append(c)\n",
    "dchars.append('.')\n",
    "print(f\"dchars len: {len(dchars)}\")\n",
    "stoi = {s:i for i,s in enumerate(dchars)}\n",
    "itos = {i:s for s,i in stoi.items()}\n",
    "\n",
    "dchars[-30:]"
   ]
  },
  {
   "cell_type": "code",
   "execution_count": 94,
   "id": "d68c46e9",
   "metadata": {},
   "outputs": [
    {
     "data": {
      "text/plain": [
       "torch.Size([702, 27])"
      ]
     },
     "execution_count": 94,
     "metadata": {},
     "output_type": "execute_result"
    }
   ],
   "source": [
    "N = torch.zeros((two_char_variations, 27), dtype=torch.int32)\n",
    "N.shape"
   ]
  },
  {
   "cell_type": "code",
   "execution_count": 21,
   "id": "3cd4ba10",
   "metadata": {},
   "outputs": [],
   "source": [
    "g = torch.Generator()\n"
   ]
  },
  {
   "cell_type": "code",
   "execution_count": 90,
   "id": "7bb6ad69",
   "metadata": {},
   "outputs": [
    {
     "name": "stdout",
     "output_type": "stream",
     "text": [
      ".e m 4 714\n",
      "em m 142 714\n",
      "mm a 350 702\n",
      "ma . 338 728\n"
     ]
    }
   ],
   "source": [
    "# create the training set of bigrams (x,y)\n",
    "xs, ys = [], []\n",
    "\n",
    "for w in words[:1]:\n",
    "    chs = ['.'] + list(w) + ['.']\n",
    "    for i, c in enumerate(chs[:-2]):\n",
    "        str1 = ''.join(chs[i:i+2])\n",
    "        str2 = chs[i+2]\n",
    "        ix1 = stoi[str1]\n",
    "        ix2 = stoi[str2]\n",
    "        xs.append(ix1)\n",
    "        ys.append(ix2)\n",
    "        print(str1, str2, ix1, ix2)\n",
    "\n",
    "xs = torch.tensor(xs)\n",
    "ys = torch.tensor(ys)"
   ]
  },
  {
   "cell_type": "code",
   "execution_count": null,
   "id": "849448c5",
   "metadata": {},
   "outputs": [],
   "source": []
  }
 ],
 "metadata": {
  "kernelspec": {
   "display_name": "Python 3",
   "language": "python",
   "name": "python3"
  },
  "language_info": {
   "codemirror_mode": {
    "name": "ipython",
    "version": 3
   },
   "file_extension": ".py",
   "mimetype": "text/x-python",
   "name": "python",
   "nbconvert_exporter": "python",
   "pygments_lexer": "ipython3",
   "version": "3.9.16"
  }
 },
 "nbformat": 4,
 "nbformat_minor": 5
}
